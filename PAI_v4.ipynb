{
 "cells": [
  {
   "cell_type": "code",
   "execution_count": 15,
   "metadata": {},
   "outputs": [],
   "source": [
    "%matplotlib inline\n",
    "from pycocotools.coco import COCO\n",
    "import numpy as np\n",
    "import skimage.io as io\n",
    "import matplotlib.pyplot as plt\n",
    "import pylab\n",
    "pylab.rcParams['figure.figsize'] = (8.0, 10.0)\n",
    "import requests\n",
    "import os.path\n",
    "from os import path"
   ]
  },
  {
   "cell_type": "code",
   "execution_count": 2,
   "metadata": {},
   "outputs": [],
   "source": [
    "def rest(a,b):\n",
    "    return [item for item in a if item not in set(b)]\n",
    "\n",
    "def inter(a,b):\n",
    "    return [item for item in a if item in set(b)]"
   ]
  },
  {
   "cell_type": "code",
   "execution_count": 3,
   "metadata": {},
   "outputs": [],
   "source": [
    "dataDir='..'\n",
    "dataType='train2017'\n",
    "annFile='{}/annotations/instances_{}.json'.format(dataDir,dataType)\n",
    "imageFolder= '{}/images_v2/{}/'.format(dataDir,dataType)"
   ]
  },
  {
   "cell_type": "code",
   "execution_count": 4,
   "metadata": {},
   "outputs": [
    {
     "name": "stdout",
     "output_type": "stream",
     "text": [
      "loading annotations into memory...\n",
      "Done (t=13.07s)\n",
      "creating index...\n",
      "index created!\n"
     ]
    }
   ],
   "source": [
    "coco=COCO(annFile)"
   ]
  },
  {
   "cell_type": "code",
   "execution_count": 5,
   "metadata": {},
   "outputs": [
    {
     "name": "stdout",
     "output_type": "stream",
     "text": [
      "COCO categories: \n",
      "person bicycle car motorcycle airplane bus train truck boat traffic light fire hydrant stop sign parking meter bench bird cat dog horse sheep cow elephant bear zebra giraffe backpack umbrella handbag tie suitcase frisbee skis snowboard sports ball kite baseball bat baseball glove skateboard surfboard tennis racket bottle wine glass cup fork knife spoon bowl banana apple sandwich orange broccoli carrot hot dog pizza donut cake chair couch potted plant bed dining table toilet tv laptop mouse remote keyboard cell phone microwave oven toaster sink refrigerator book clock vase scissors teddy bear hair drier toothbrush\n",
      "\n",
      "COCO supercategories: \n",
      "outdoor sports indoor appliance accessory animal electronic vehicle food kitchen furniture person\n"
     ]
    }
   ],
   "source": [
    "# display COCO categories and supercategories\n",
    "cats = coco.loadCats(coco.getCatIds())\n",
    "nms=[cat['name'] for cat in cats]\n",
    "print('COCO categories: \\n{}\\n'.format(' '.join(nms)))\n",
    "\n",
    "nms_sc = set([cat['supercategory'] for cat in cats])\n",
    "print('COCO supercategories: \\n{}'.format(' '.join(nms_sc)))"
   ]
  },
  {
   "cell_type": "code",
   "execution_count": 6,
   "metadata": {},
   "outputs": [],
   "source": [
    "# clases que se quieren  \n",
    "cat_list = ['person','vase','tv','chair','couch','potted plant','bed','dining table','microwave','oven','sink','refrigerator','toilet','glass','keyboard','remote','remote','cup']\n",
    "# clases con todo menos personas\n",
    "cat_list_np =  rest(nms,['person'])\n",
    "# clases que no se quieren\n",
    "cat_list_c =  rest(nms,cat_list)"
   ]
  },
  {
   "cell_type": "code",
   "execution_count": 7,
   "metadata": {},
   "outputs": [],
   "source": [
    "# clases que se quieren  \n",
    "catIds_todas = coco.getCatIds(catNms=nms);\n",
    "# clases que no se quieren\n",
    "catIds_c = coco.getCatIds(catNms=cat_list_c);\n",
    "# clases con todo menos personas\n",
    "catIds_np = coco.getCatIds(catNms=cat_list_np);\n",
    "\n",
    "imgIds_todas = []\n",
    "imgIds_c = []\n",
    "imgIds_np = []\n",
    "\n",
    "# se obtienen todas las imagenes\n",
    "for Id in catIds_todas:\n",
    "    imgIds_todas = imgIds_todas + coco.getImgIds(catIds=Id)\n",
    "imgIds_todas = list(dict.fromkeys(imgIds_todas))\n",
    "\n",
    "#se obtienen imagenes con elementos que no se quieren \n",
    "for Id in catIds_c:\n",
    "    imgIds_c = imgIds_c + coco.getImgIds(catIds=Id)\n",
    "imgIds_c = list(dict.fromkeys(imgIds_c))\n",
    "\n",
    "# se obtienen imagenes donde no salen personas solas\n",
    "for Id in catIds_np:\n",
    "    imgIds_np = imgIds_np + coco.getImgIds(catIds=Id)\n",
    "imgIds_np = list(dict.fromkeys(imgIds_np))\n",
    "    \n",
    "# Filtramos las imagenes totales menos las que no queremos \n",
    "imgIds = rest(imgIds_todas,imgIds_c)\n",
    "imgIds = inter(imgIds,imgIds_np)"
   ]
  },
  {
   "cell_type": "code",
   "execution_count": 8,
   "metadata": {},
   "outputs": [
    {
     "name": "stdout",
     "output_type": "stream",
     "text": [
      "imagenes totales:  117266\n",
      "imagenes filtradas:  109594\n",
      "imagenes resultantes:  7672\n"
     ]
    }
   ],
   "source": [
    "print(\"imagenes totales: \", len(imgIds_todas))\n",
    "print(\"imagenes filtradas: \", len(imgIds_todas)-len(imgIds))\n",
    "print(\"imagenes resultantes: \", len(imgIds))"
   ]
  },
  {
   "cell_type": "code",
   "execution_count": 20,
   "metadata": {},
   "outputs": [
    {
     "name": "stdout",
     "output_type": "stream",
     "text": [
      "1%\n",
      "2%\n",
      "3%\n",
      "4%\n",
      "5%\n",
      "6%\n",
      "7%\n",
      "8%\n",
      "9%\n",
      "10%\n",
      "11%\n",
      "12%\n",
      "13%\n",
      "14%\n",
      "15%\n",
      "16%\n",
      "17%\n",
      "18%\n",
      "19%\n",
      "20%\n",
      "21%\n",
      "22%\n",
      "23%\n",
      "24%\n",
      "25%\n",
      "26%\n",
      "27%\n",
      "28%\n",
      "29%\n",
      "30%\n",
      "31%\n",
      "32%\n",
      "33%\n",
      "34%\n",
      "35%\n",
      "36%\n",
      "37%\n",
      "38%\n",
      "39%\n",
      "40%\n",
      "41%\n",
      "42%\n",
      "43%\n",
      "44%\n",
      "45%\n",
      "46%\n",
      "47%\n",
      "48%\n",
      "49%\n",
      "50%\n",
      "51%\n",
      "52%\n",
      "53%\n",
      "54%\n",
      "55%\n",
      "56%\n",
      "57%\n",
      "58%\n",
      "59%\n",
      "60%\n",
      "61%\n",
      "62%\n",
      "63%\n",
      "64%\n",
      "65%\n",
      "66%\n",
      "67%\n",
      "68%\n",
      "69%\n",
      "70%\n",
      "71%\n",
      "72%\n",
      "73%\n",
      "74%\n",
      "75%\n",
      "76%\n",
      "77%\n",
      "78%\n",
      "79%\n",
      "80%\n",
      "81%\n",
      "82%\n",
      "83%\n",
      "84%\n",
      "85%\n",
      "86%\n",
      "87%\n",
      "88%\n",
      "89%\n",
      "90%\n",
      "91%\n",
      "92%\n",
      "93%\n",
      "94%\n",
      "95%\n",
      "96%\n",
      "97%\n",
      "98%\n",
      "99%\n"
     ]
    }
   ],
   "source": [
    "count=0\n",
    "aux=0\n",
    "to_p = 100/len(imgIds)\n",
    "\n",
    "for img_id in imgIds:\n",
    "    if int(count*to_p) > aux:\n",
    "        aux +=1\n",
    "        print(str(aux) + \"%\")\n",
    "    im = coco.loadImgs(img_id)[0]\n",
    "    if not path.exists(imageFolder + im['file_name']):\n",
    "        # imagen\n",
    "        img_data = requests.get(im['coco_url']).content\n",
    "        with open(imageFolder + im['file_name'], 'wb') as handler:\n",
    "            handler.write(img_data)\n",
    "    count+=1"
   ]
  },
  {
   "cell_type": "code",
   "execution_count": null,
   "metadata": {},
   "outputs": [],
   "source": []
  }
 ],
 "metadata": {
  "kernelspec": {
   "display_name": "Python 3",
   "language": "python",
   "name": "python3"
  },
  "language_info": {
   "codemirror_mode": {
    "name": "ipython",
    "version": 3
   },
   "file_extension": ".py",
   "mimetype": "text/x-python",
   "name": "python",
   "nbconvert_exporter": "python",
   "pygments_lexer": "ipython3",
   "version": "3.7.9"
  }
 },
 "nbformat": 4,
 "nbformat_minor": 4
}
